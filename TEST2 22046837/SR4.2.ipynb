{
 "cells": [
  {
   "cell_type": "markdown",
   "id": "553219ef-437b-4158-b1ad-046aea2f4d8e",
   "metadata": {},
   "source": [
    "# Comparison of Linear and Binary Search Algorithms\n",
    "\n",
    "## Linear Search\n",
    "- **Algorithm Overview**: Linear search is a simple searching algorithm that sequentially checks each element of a list until the desired element is found or the end of the list is reached.\n",
    "- **Performance**:\n",
    "    - **Time Complexity**: O(n), where n is the number of elements in the list. In the worst-case scenario, it may need to traverse through all elements of the list.\n",
    "    - **Space Complexity**: O(1). It doesn't require any additional space.\n",
    "- **Use Cases**: Suitable for small lists or when the elements are not in a specific order.\n",
    "\n",
    "## Binary Search\n",
    "- **Algorithm Overview**: Binary search is a more efficient searching algorithm for sorted lists. It works by repeatedly dividing the search interval in half until the desired element is found.\n",
    "- **Performance**:\n",
    "    - **Time Complexity**: O(log n), where n is the number of elements in the list. It significantly reduces the search space with each iteration.\n",
    "    - **Space Complexity**: O(1). It doesn't require any additional space apart from the initial list.\n",
    "- **Use Cases**: Ideal for large sorted lists where efficiency is crucial.\n",
    "\n",
    "## Comparison\n",
    "- **Speed**: Binary search is generally faster than linear search, especially for large lists. The logarithmic time complexity of binary search means it can quickly narrow down the search space, making it more efficient.\n",
    "- **Suitability**: Linear search is more suitable for small lists or unsorted lists where the overhead of sorting is not justified. Binary search shines when dealing with large sorted lists, providing significantly faster search times.\n",
    "- **Preprocessing**: Binary search requires the list to be sorted beforehand, which adds an initial overhead. Linear search does not have this requirement.\n"
   ]
  },
  {
   "cell_type": "code",
   "execution_count": 2,
   "id": "9540d24d-8ac8-4aa4-8bd7-bd6bb74a3d0e",
   "metadata": {},
   "outputs": [
    {
     "name": "stdout",
     "output_type": "stream",
     "text": [
      "Linear Search: Element found at index 5\n",
      "Binary Search: Element found at index 5\n"
     ]
    }
   ],
   "source": [
    "def linear_search(arr, target):\n",
    "    \"\"\"Performs linear search on the given array.\"\"\"\n",
    "    for index, element in enumerate(arr):\n",
    "        if element == target:\n",
    "            return index\n",
    "    return -1\n",
    "\n",
    "def binary_search(arr, target):\n",
    "    \"\"\"Performs binary search on the given sorted array.\"\"\"\n",
    "    left, right = 0, len(arr) - 1\n",
    "    while left <= right:\n",
    "        mid = (left + right) // 2\n",
    "        if arr[mid] == target:\n",
    "            return mid\n",
    "        elif arr[mid] < target:\n",
    "            left = mid + 1\n",
    "        else:\n",
    "            right = mid - 1\n",
    "    return -1\n",
    "\n",
    "# Example dataset and target element\n",
    "dataset = [3, 6, 8, 12, 14, 18, 21, 24, 27, 30]\n",
    "target = 18\n",
    "\n",
    "# Linear Search\n",
    "linear_result = linear_search(dataset, target)\n",
    "print(f\"Linear Search: Element found at index {linear_result}\")\n",
    "\n",
    "# Binary Search\n",
    "# Note: The dataset must be sorted for binary search to work correctly\n",
    "binary_result = binary_search(dataset, target)\n",
    "print(f\"Binary Search: Element found at index {binary_result}\")\n",
    "#Explanation of the Code\n",
    "#Linear Search: Iterates through each element in the array until it finds the target element. If found, it returns the index of the element; otherwise, it returns -1.\n",
    "#Binary Search: Assumes that the array is sorted. It repeatedly divides the search range in half and compares the target element with the middle element of the current range. If the target is found, it returns the index; otherwise, it narrows down the search range until the target is found or the range is exhausted.\n"
   ]
  },
  {
   "cell_type": "code",
   "execution_count": null,
   "id": "6abbc007-71b8-4824-98e3-36dfab660955",
   "metadata": {},
   "outputs": [],
   "source": []
  }
 ],
 "metadata": {
  "kernelspec": {
   "display_name": "Python 3 (ipykernel)",
   "language": "python",
   "name": "python3"
  },
  "language_info": {
   "codemirror_mode": {
    "name": "ipython",
    "version": 3
   },
   "file_extension": ".py",
   "mimetype": "text/x-python",
   "name": "python",
   "nbconvert_exporter": "python",
   "pygments_lexer": "ipython3",
   "version": "3.11.7"
  }
 },
 "nbformat": 4,
 "nbformat_minor": 5
}
