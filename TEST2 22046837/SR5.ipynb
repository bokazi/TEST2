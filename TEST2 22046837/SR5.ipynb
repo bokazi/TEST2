{
 "cells": [
  {
   "cell_type": "code",
   "execution_count": null,
   "id": "e7bc9b34-1831-41c9-8270-872b91b32562",
   "metadata": {},
   "outputs": [],
   "source": [
    "Time Complexity\n",
    "Merge Sort is a classic divide-and-conquer algorithm used for sorting. The algorithm can be broken down into the following steps:\n",
    "\n",
    "Divide the array into two halves.\n",
    "Recursively sort each half.\n",
    "Merge the two sorted halves to produce the sorted array.Space Complexity\n",
    "Merge Sort requires additional space for the temporary arrays used in the merging process. Let's break down the space usage:\n",
    "\n",
    "Recursive Call Stack:\n",
    "\n",
    "The depth of the recursion is log(n), which means the maximum stack space used is O(log n).\n",
    "Temporary Arrays:\n",
    "\n",
    "At each level of recursion, temporary arrays are used to hold the two halves of the array being merged. In the worst case, the total space required for these temporary arrays is proportional to the size of the array, O(n)."
   ]
  }
 ],
 "metadata": {
  "kernelspec": {
   "display_name": "",
   "name": ""
  },
  "language_info": {
   "name": ""
  }
 },
 "nbformat": 4,
 "nbformat_minor": 5
}
